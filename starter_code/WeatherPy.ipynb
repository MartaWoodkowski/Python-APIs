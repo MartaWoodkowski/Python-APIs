{
 "cells": [
  {
   "cell_type": "markdown",
   "metadata": {},
   "source": [
    "# WeatherPy\n",
    "----\n",
    "\n",
    "#### Note\n",
    "* Instructions have been included for each segment. You do not have to follow them exactly, but they are included to help you think through the steps.\n",
    "\n",
    "### Observations:\n",
    "\n",
    "* The cities maximum temperatures are getting smaller as we are moving away from the equator in either direction (towards North or South poles). There is a moderate to strong linear relationship between temperatures and latitudes. The maximum temperatures are not at the equator but rather between the 20-25 degrees latitude, around the Tropic of Cancer.\n",
    "\n",
    "\n",
    "* Humidity and cloudiness have no linear relationship (r levels are very close to zero) to the latitude of cites. This means that the expectation of humidity or cloudiness level is not related to which latitude you stand on. It is interesting to note that there were found bands of cities at specific cloudiness level (based on the dataset I worked with).\n",
    "\n",
    "\n",
    "* Wind speeds and latitudes also have no linear relationships. It is interesting to note that most of the wind speed on earth is between 0 and 20 mph."
   ]
  },
  {
   "cell_type": "code",
   "execution_count": 39,
   "metadata": {
    "scrolled": true
   },
   "outputs": [],
   "source": [
    "# Dependencies and Setup\n",
    "import matplotlib.pyplot as plt\n",
    "import pandas as pd\n",
    "import numpy as np\n",
    "import requests\n",
    "import time\n",
    "from scipy.stats import linregress\n",
    "import os\n",
    "import csv\n",
    "from datetime import date\n",
    "\n",
    "# Import API key\n",
    "from api_keys import weather_api_key\n",
    "\n",
    "# Incorporated citipy to determine city based on latitude and longitude\n",
    "from citipy import citipy\n",
    "\n",
    "# Range of latitudes and longitudes\n",
    "lat_range = (-90, 90)\n",
    "lng_range = (-180, 180)"
   ]
  },
  {
   "cell_type": "markdown",
   "metadata": {},
   "source": [
    "## Generate Cities List"
   ]
  },
  {
   "cell_type": "code",
   "execution_count": 6,
   "metadata": {},
   "outputs": [
    {
     "data": {
      "text/plain": [
       "615"
      ]
     },
     "execution_count": 6,
     "metadata": {},
     "output_type": "execute_result"
    }
   ],
   "source": [
    "# List for holding lat_lngs and cities\n",
    "lat_lngs = []\n",
    "cities = []\n",
    "\n",
    "# Create a set of random lat and lng combinations\n",
    "lats = np.random.uniform(lat_range[0], lat_range[1], size=1500)\n",
    "lngs = np.random.uniform(lng_range[0], lng_range[1], size=1500)\n",
    "lat_lngs = zip(lats, lngs)\n",
    "\n",
    "# Identify nearest city for each lat, lng combination\n",
    "for lat_lng in lat_lngs:\n",
    "    city = citipy.nearest_city(lat_lng[0], lat_lng[1]).city_name\n",
    "    \n",
    "    # If the city is unique, then add it to a our cities list\n",
    "    if city not in cities:\n",
    "        cities.append(city)\n",
    "\n",
    "# Print the city count to confirm sufficient count\n",
    "len(cities)"
   ]
  },
  {
   "cell_type": "markdown",
   "metadata": {},
   "source": [
    "### Perform API Calls\n",
    "* Perform a weather check on each city using a series of successive API calls.\n",
    "* Include a print log of each city as it'sbeing processed (with the city number and city name).\n"
   ]
  },
  {
   "cell_type": "code",
   "execution_count": 7,
   "metadata": {},
   "outputs": [
    {
     "name": "stdout",
     "output_type": "stream",
     "text": [
      "Beginning Data Retrieval\n",
      "---------------------------\n",
      "Processing Record 1 of Set 1 | rikitea\n",
      "Processing Record 2 of Set 1 | berlevag\n",
      "Processing Record 3 of Set 1 | antalaha\n",
      "Processing Record 4 of Set 1 | jamestown\n",
      "Processing Record 5 of Set 1 | hobyo\n",
      "Processing Record 6 of Set 1 | banposh\n",
      "Processing Record 7 of Set 1 | kapaa\n",
      "Processing Record 8 of Set 1 | ushuaia\n",
      "Processing Record 9 of Set 1 | hamilton\n",
      "City not found. Skipping...\n",
      "Processing Record 10 of Set 1 | paracuru\n",
      "Processing Record 11 of Set 1 | chuy\n",
      "Processing Record 12 of Set 1 | carnarvon\n",
      "Processing Record 13 of Set 1 | praia da vitoria\n",
      "Processing Record 14 of Set 1 | punta arenas\n",
      "City not found. Skipping...\n",
      "Processing Record 15 of Set 1 | vaini\n",
      "Processing Record 16 of Set 1 | rosario\n",
      "Processing Record 17 of Set 1 | puerto ayora\n",
      "Processing Record 18 of Set 1 | hobart\n",
      "Processing Record 19 of Set 1 | nikolskoye\n",
      "Processing Record 20 of Set 1 | inzer\n",
      "Processing Record 21 of Set 1 | saskylakh\n",
      "Processing Record 22 of Set 1 | mataura\n",
      "Processing Record 23 of Set 1 | kahului\n",
      "Processing Record 24 of Set 1 | nome\n",
      "Processing Record 25 of Set 1 | busselton\n",
      "City not found. Skipping...\n",
      "Processing Record 26 of Set 1 | kununurra\n",
      "City not found. Skipping...\n",
      "Processing Record 27 of Set 1 | ketchikan\n",
      "Processing Record 28 of Set 1 | paciran\n",
      "Processing Record 29 of Set 1 | thompson\n",
      "Processing Record 30 of Set 1 | uchiza\n",
      "Processing Record 31 of Set 1 | cherskiy\n",
      "Processing Record 32 of Set 1 | tasiilaq\n",
      "City not found. Skipping...\n",
      "Processing Record 33 of Set 1 | vila franca do campo\n",
      "Processing Record 34 of Set 1 | saint-philippe\n",
      "Processing Record 35 of Set 1 | atuona\n",
      "Processing Record 36 of Set 1 | galle\n",
      "City not found. Skipping...\n",
      "Processing Record 37 of Set 1 | yellowknife\n",
      "Processing Record 38 of Set 1 | mecca\n",
      "Processing Record 39 of Set 1 | opuwo\n",
      "Processing Record 40 of Set 1 | hermanus\n",
      "Processing Record 41 of Set 1 | clyde river\n",
      "Processing Record 42 of Set 1 | dublin\n",
      "Processing Record 43 of Set 1 | savonlinna\n",
      "Processing Record 44 of Set 1 | avarua\n",
      "Processing Record 45 of Set 1 | arraial do cabo\n",
      "Processing Record 46 of Set 1 | bredasdorp\n",
      "Processing Record 47 of Set 1 | lagoa\n",
      "City not found. Skipping...\n",
      "Processing Record 48 of Set 1 | khovu-aksy\n",
      "Processing Record 49 of Set 1 | chokurdakh\n",
      "Processing Record 50 of Set 1 | skaudvile\n",
      "Processing Record 0 of Set 2 | new norfolk\n",
      "City not found. Skipping...\n",
      "Processing Record 1 of Set 2 | cape town\n",
      "Processing Record 2 of Set 2 | abu dhabi\n",
      "Processing Record 3 of Set 2 | barsovo\n",
      "Processing Record 4 of Set 2 | arman\n",
      "Processing Record 5 of Set 2 | coolum beach\n",
      "Processing Record 6 of Set 2 | bandarbeyla\n",
      "City not found. Skipping...\n",
      "Processing Record 7 of Set 2 | shimoda\n",
      "Processing Record 8 of Set 2 | cotonou\n",
      "Processing Record 9 of Set 2 | talnakh\n",
      "Processing Record 10 of Set 2 | ribeira grande\n",
      "Processing Record 11 of Set 2 | olafsvik\n",
      "Processing Record 12 of Set 2 | bambous virieux\n",
      "Processing Record 13 of Set 2 | liku\n",
      "Processing Record 14 of Set 2 | pevek\n",
      "Processing Record 15 of Set 2 | severo-kurilsk\n",
      "Processing Record 16 of Set 2 | sandovo\n",
      "Processing Record 17 of Set 2 | caravelas\n",
      "Processing Record 18 of Set 2 | sao gabriel da cachoeira\n",
      "Processing Record 19 of Set 2 | portland\n",
      "Processing Record 20 of Set 2 | sitka\n",
      "Processing Record 21 of Set 2 | shenjiamen\n",
      "City not found. Skipping...\n",
      "Processing Record 22 of Set 2 | bluff\n",
      "Processing Record 23 of Set 2 | yakeshi\n",
      "Processing Record 24 of Set 2 | tezu\n",
      "Processing Record 25 of Set 2 | dikson\n",
      "Processing Record 26 of Set 2 | guiratinga\n",
      "Processing Record 27 of Set 2 | christchurch\n",
      "Processing Record 28 of Set 2 | bathsheba\n",
      "Processing Record 29 of Set 2 | plouzane\n",
      "Processing Record 30 of Set 2 | boddam\n",
      "Processing Record 31 of Set 2 | turangi\n",
      "Processing Record 32 of Set 2 | bengkulu\n",
      "Processing Record 33 of Set 2 | katsuura\n",
      "Processing Record 34 of Set 2 | codrington\n",
      "Processing Record 35 of Set 2 | phalodi\n",
      "Processing Record 36 of Set 2 | cabo san lucas\n",
      "Processing Record 37 of Set 2 | ahipara\n",
      "Processing Record 38 of Set 2 | khatanga\n",
      "Processing Record 39 of Set 2 | hambantota\n",
      "Processing Record 40 of Set 2 | ternate\n",
      "Processing Record 41 of Set 2 | dingle\n",
      "City not found. Skipping...\n",
      "Processing Record 42 of Set 2 | barrow\n",
      "Processing Record 43 of Set 2 | coihaique\n",
      "Processing Record 44 of Set 2 | coquimbo\n",
      "Processing Record 45 of Set 2 | kavieng\n",
      "Processing Record 46 of Set 2 | alice springs\n",
      "Processing Record 47 of Set 2 | dongsheng\n",
      "Processing Record 48 of Set 2 | coahuayana\n",
      "Processing Record 49 of Set 2 | great falls\n",
      "Processing Record 50 of Set 2 | laguna\n",
      "Processing Record 0 of Set 3 | castro\n",
      "Processing Record 1 of Set 3 | palasa\n",
      "Processing Record 2 of Set 3 | namatanai\n",
      "Processing Record 3 of Set 3 | sampit\n",
      "Processing Record 4 of Set 3 | aranos\n",
      "Processing Record 5 of Set 3 | torbay\n",
      "Processing Record 6 of Set 3 | santa catalina\n",
      "Processing Record 7 of Set 3 | souillac\n",
      "Processing Record 8 of Set 3 | muros\n",
      "Processing Record 9 of Set 3 | samarai\n",
      "Processing Record 10 of Set 3 | padang\n",
      "Processing Record 11 of Set 3 | barcelos\n",
      "Processing Record 12 of Set 3 | kijang\n",
      "Processing Record 13 of Set 3 | conkal\n",
      "Processing Record 14 of Set 3 | butaritari\n",
      "Processing Record 15 of Set 3 | aksarka\n",
      "Processing Record 16 of Set 3 | husavik\n",
      "Processing Record 17 of Set 3 | nagato\n",
      "Processing Record 18 of Set 3 | hojai\n",
      "Processing Record 19 of Set 3 | tuktoyaktuk\n",
      "Processing Record 20 of Set 3 | ilulissat\n",
      "Processing Record 21 of Set 3 | rundu\n",
      "Processing Record 22 of Set 3 | taoudenni\n",
      "Processing Record 23 of Set 3 | albany\n",
      "Processing Record 24 of Set 3 | vao\n",
      "Processing Record 25 of Set 3 | hasaki\n",
      "Processing Record 26 of Set 3 | aklavik\n",
      "Processing Record 27 of Set 3 | marfino\n",
      "Processing Record 28 of Set 3 | elesbao veloso\n",
      "Processing Record 29 of Set 3 | yar-sale\n",
      "Processing Record 30 of Set 3 | kavaratti\n",
      "Processing Record 31 of Set 3 | saskatoon\n",
      "Processing Record 32 of Set 3 | klaksvik\n",
      "Processing Record 33 of Set 3 | faya\n",
      "Processing Record 34 of Set 3 | georgetown\n",
      "Processing Record 35 of Set 3 | hilo\n",
      "Processing Record 36 of Set 3 | luau\n",
      "Processing Record 37 of Set 3 | port elizabeth\n",
      "Processing Record 38 of Set 3 | la asuncion\n",
      "Processing Record 39 of Set 3 | najran\n",
      "Processing Record 40 of Set 3 | barentu\n",
      "Processing Record 41 of Set 3 | broome\n",
      "Processing Record 42 of Set 3 | amapa\n",
      "Processing Record 43 of Set 3 | beringovskiy\n",
      "Processing Record 44 of Set 3 | dwarka\n",
      "Processing Record 45 of Set 3 | esperance\n",
      "Processing Record 46 of Set 3 | serebryansk\n",
      "Processing Record 47 of Set 3 | mangai\n",
      "Processing Record 48 of Set 3 | inuvik\n",
      "City not found. Skipping...\n",
      "City not found. Skipping...\n",
      "Processing Record 49 of Set 3 | hofn\n",
      "Processing Record 50 of Set 3 | glendive\n",
      "Processing Record 0 of Set 4 | victor harbor\n",
      "Processing Record 1 of Set 4 | nara\n",
      "Processing Record 2 of Set 4 | bonavista\n",
      "Processing Record 3 of Set 4 | te anau\n",
      "Processing Record 4 of Set 4 | foam lake\n",
      "City not found. Skipping...\n",
      "Processing Record 5 of Set 4 | zhigansk\n",
      "Processing Record 6 of Set 4 | mareeba\n",
      "Processing Record 7 of Set 4 | rocha\n",
      "Processing Record 8 of Set 4 | lorengau\n",
      "City not found. Skipping...\n",
      "Processing Record 9 of Set 4 | kruisfontein\n",
      "Processing Record 10 of Set 4 | aswan\n",
      "Processing Record 11 of Set 4 | doha\n",
      "Processing Record 12 of Set 4 | agartala\n",
      "Processing Record 13 of Set 4 | upernavik\n",
      "Processing Record 14 of Set 4 | vostok\n",
      "Processing Record 15 of Set 4 | port alfred\n",
      "Processing Record 16 of Set 4 | ocean springs\n",
      "City not found. Skipping...\n",
      "Processing Record 17 of Set 4 | wairoa\n",
      "Processing Record 18 of Set 4 | cidreira\n",
      "Processing Record 19 of Set 4 | vanavara\n",
      "Processing Record 20 of Set 4 | totskoye\n",
      "Processing Record 21 of Set 4 | bouna\n",
      "Processing Record 22 of Set 4 | provideniya\n",
      "Processing Record 23 of Set 4 | atbasar\n",
      "City not found. Skipping...\n",
      "Processing Record 24 of Set 4 | tiksi\n",
      "Processing Record 25 of Set 4 | treinta y tres\n",
      "Processing Record 26 of Set 4 | shitanjing\n",
      "Processing Record 27 of Set 4 | east london\n",
      "Processing Record 28 of Set 4 | port blair\n",
      "Processing Record 29 of Set 4 | qaanaaq\n",
      "Processing Record 30 of Set 4 | harper\n",
      "Processing Record 31 of Set 4 | puerto escondido\n",
      "Processing Record 32 of Set 4 | xining\n",
      "Processing Record 33 of Set 4 | cayenne\n",
      "Processing Record 34 of Set 4 | port hardy\n",
      "Processing Record 35 of Set 4 | hithadhoo\n"
     ]
    },
    {
     "name": "stdout",
     "output_type": "stream",
     "text": [
      "Processing Record 36 of Set 4 | djambala\n",
      "Processing Record 37 of Set 4 | nyahururu\n",
      "Processing Record 38 of Set 4 | ponta do sol\n",
      "Processing Record 39 of Set 4 | kanye\n",
      "Processing Record 40 of Set 4 | silver city\n",
      "Processing Record 41 of Set 4 | lavrentiya\n",
      "Processing Record 42 of Set 4 | carroll\n",
      "Processing Record 43 of Set 4 | cap malheureux\n",
      "Processing Record 44 of Set 4 | saint-joseph\n",
      "Processing Record 45 of Set 4 | papar\n",
      "Processing Record 46 of Set 4 | suining\n",
      "Processing Record 47 of Set 4 | heyang\n",
      "Processing Record 48 of Set 4 | okhotsk\n",
      "Processing Record 49 of Set 4 | mackay\n",
      "Processing Record 50 of Set 4 | naze\n",
      "Processing Record 0 of Set 5 | san patricio\n",
      "Processing Record 1 of Set 5 | seoul\n",
      "Processing Record 2 of Set 5 | saint george\n",
      "City not found. Skipping...\n",
      "Processing Record 3 of Set 5 | yumen\n",
      "Processing Record 4 of Set 5 | mahebourg\n",
      "Processing Record 5 of Set 5 | sinnamary\n",
      "Processing Record 6 of Set 5 | jina\n",
      "Processing Record 7 of Set 5 | fare\n",
      "Processing Record 8 of Set 5 | beya\n",
      "Processing Record 9 of Set 5 | lebu\n",
      "City not found. Skipping...\n",
      "Processing Record 10 of Set 5 | warmbad\n",
      "Processing Record 11 of Set 5 | devrek\n",
      "Processing Record 12 of Set 5 | lanzhou\n",
      "Processing Record 13 of Set 5 | san ramon\n",
      "Processing Record 14 of Set 5 | airai\n",
      "Processing Record 15 of Set 5 | gopalganj\n",
      "City not found. Skipping...\n",
      "Processing Record 16 of Set 5 | elko\n",
      "Processing Record 17 of Set 5 | gazanjyk\n",
      "Processing Record 18 of Set 5 | longyan\n",
      "Processing Record 19 of Set 5 | half moon bay\n",
      "Processing Record 20 of Set 5 | ostrovnoy\n",
      "Processing Record 21 of Set 5 | mar del plata\n",
      "Processing Record 22 of Set 5 | qui nhon\n",
      "Processing Record 23 of Set 5 | champerico\n",
      "Processing Record 24 of Set 5 | saldanha\n",
      "Processing Record 25 of Set 5 | novaya igirma\n",
      "Processing Record 26 of Set 5 | pangkalanbuun\n",
      "Processing Record 27 of Set 5 | kawalu\n",
      "Processing Record 28 of Set 5 | luang prabang\n",
      "Processing Record 29 of Set 5 | middelburg\n",
      "Processing Record 30 of Set 5 | geraldton\n",
      "Processing Record 31 of Set 5 | sanchor\n",
      "City not found. Skipping...\n",
      "Processing Record 32 of Set 5 | pueblo nuevo\n",
      "Processing Record 33 of Set 5 | narsaq\n",
      "Processing Record 34 of Set 5 | longyearbyen\n",
      "Processing Record 35 of Set 5 | indi\n",
      "Processing Record 36 of Set 5 | grindavik\n",
      "Processing Record 37 of Set 5 | saint anthony\n",
      "Processing Record 38 of Set 5 | acapulco\n",
      "Processing Record 39 of Set 5 | kaitangata\n",
      "Processing Record 40 of Set 5 | lima\n",
      "Processing Record 41 of Set 5 | camargo\n",
      "Processing Record 42 of Set 5 | aitape\n",
      "Processing Record 43 of Set 5 | washington\n",
      "Processing Record 44 of Set 5 | victoria\n",
      "Processing Record 45 of Set 5 | cabedelo\n",
      "City not found. Skipping...\n",
      "Processing Record 46 of Set 5 | kathu\n",
      "Processing Record 47 of Set 5 | touros\n",
      "Processing Record 48 of Set 5 | leningradskiy\n",
      "City not found. Skipping...\n",
      "Processing Record 49 of Set 5 | tambovka\n",
      "Processing Record 50 of Set 5 | ewa beach\n",
      "Processing Record 0 of Set 6 | evensk\n",
      "Processing Record 1 of Set 6 | umm kaddadah\n",
      "Processing Record 2 of Set 6 | los llanos de aridane\n",
      "Processing Record 3 of Set 6 | saint-georges\n",
      "Processing Record 4 of Set 6 | tura\n",
      "Processing Record 5 of Set 6 | ucluelet\n",
      "Processing Record 6 of Set 6 | port hedland\n",
      "Processing Record 7 of Set 6 | clarksburg\n",
      "Processing Record 8 of Set 6 | bafra\n",
      "Processing Record 9 of Set 6 | nouadhibou\n",
      "Processing Record 10 of Set 6 | hami\n",
      "Processing Record 11 of Set 6 | mayo\n",
      "Processing Record 12 of Set 6 | krylovskaya\n",
      "Processing Record 13 of Set 6 | diapaga\n",
      "Processing Record 14 of Set 6 | toora-khem\n",
      "Processing Record 15 of Set 6 | haines junction\n",
      "City not found. Skipping...\n",
      "Processing Record 16 of Set 6 | tupa\n",
      "Processing Record 17 of Set 6 | isabela\n",
      "Processing Record 18 of Set 6 | spearfish\n",
      "Processing Record 19 of Set 6 | fairbanks\n",
      "Processing Record 20 of Set 6 | xai-xai\n",
      "Processing Record 21 of Set 6 | namie\n",
      "Processing Record 22 of Set 6 | the pas\n",
      "Processing Record 23 of Set 6 | comodoro rivadavia\n",
      "Processing Record 24 of Set 6 | novoanninskiy\n",
      "Processing Record 25 of Set 6 | kodiak\n",
      "Processing Record 26 of Set 6 | manacapuru\n",
      "Processing Record 27 of Set 6 | oktyabrskoye\n",
      "Processing Record 28 of Set 6 | san ignacio\n",
      "Processing Record 29 of Set 6 | kananga\n",
      "Processing Record 30 of Set 6 | pisco\n",
      "Processing Record 31 of Set 6 | luwuk\n",
      "Processing Record 32 of Set 6 | nysa\n",
      "Processing Record 33 of Set 6 | arlit\n",
      "Processing Record 34 of Set 6 | nerja\n",
      "Processing Record 35 of Set 6 | neuquen\n",
      "Processing Record 36 of Set 6 | nesbyen\n",
      "Processing Record 37 of Set 6 | san cristobal\n",
      "Processing Record 38 of Set 6 | urumqi\n",
      "Processing Record 39 of Set 6 | batagay-alyta\n",
      "Processing Record 40 of Set 6 | miranda\n",
      "Processing Record 41 of Set 6 | santa rosalia\n",
      "Processing Record 42 of Set 6 | tomsk\n",
      "Processing Record 43 of Set 6 | kiama\n",
      "Processing Record 44 of Set 6 | sioux lookout\n",
      "Processing Record 45 of Set 6 | sisimiut\n",
      "Processing Record 46 of Set 6 | oistins\n",
      "Processing Record 47 of Set 6 | luancheng\n",
      "Processing Record 48 of Set 6 | kagoro\n",
      "Processing Record 49 of Set 6 | nenjiang\n",
      "Processing Record 50 of Set 6 | shwebo\n",
      "Processing Record 0 of Set 7 | baykit\n",
      "Processing Record 1 of Set 7 | eskil\n",
      "Processing Record 2 of Set 7 | basoko\n",
      "Processing Record 3 of Set 7 | walvis bay\n",
      "Processing Record 4 of Set 7 | ciuperceni\n",
      "Processing Record 5 of Set 7 | santa marta de tormes\n",
      "City not found. Skipping...\n",
      "Processing Record 6 of Set 7 | piacabucu\n",
      "Processing Record 7 of Set 7 | waingapu\n",
      "Processing Record 8 of Set 7 | constitucion\n",
      "Processing Record 9 of Set 7 | svetlaya\n",
      "Processing Record 10 of Set 7 | isangel\n",
      "City not found. Skipping...\n",
      "Processing Record 11 of Set 7 | chabahar\n",
      "Processing Record 12 of Set 7 | norman wells\n",
      "Processing Record 13 of Set 7 | lompoc\n",
      "Processing Record 14 of Set 7 | pringsewu\n",
      "Processing Record 15 of Set 7 | mantua\n",
      "Processing Record 16 of Set 7 | mudgee\n",
      "Processing Record 17 of Set 7 | southampton\n",
      "Processing Record 18 of Set 7 | pangody\n",
      "Processing Record 19 of Set 7 | alugan\n",
      "Processing Record 20 of Set 7 | iqaluit\n",
      "Processing Record 21 of Set 7 | marsa matruh\n",
      "Processing Record 22 of Set 7 | nakusp\n",
      "Processing Record 23 of Set 7 | islamkot\n",
      "Processing Record 24 of Set 7 | komsomolskiy\n",
      "Processing Record 25 of Set 7 | san rafael\n",
      "Processing Record 26 of Set 7 | sagae\n",
      "Processing Record 27 of Set 7 | kismayo\n",
      "Processing Record 28 of Set 7 | sao filipe\n",
      "Processing Record 29 of Set 7 | kindu\n",
      "Processing Record 30 of Set 7 | safaga\n",
      "Processing Record 31 of Set 7 | kutum\n",
      "Processing Record 32 of Set 7 | murgab\n",
      "City not found. Skipping...\n",
      "Processing Record 33 of Set 7 | jalu\n",
      "Processing Record 34 of Set 7 | linhares\n",
      "Processing Record 35 of Set 7 | saurimo\n",
      "Processing Record 36 of Set 7 | joensuu\n",
      "Processing Record 37 of Set 7 | tianpeng\n",
      "Processing Record 38 of Set 7 | karasburg\n",
      "Processing Record 39 of Set 7 | pacific grove\n",
      "Processing Record 40 of Set 7 | manggar\n",
      "City not found. Skipping...\n",
      "Processing Record 41 of Set 7 | bunia\n",
      "Processing Record 42 of Set 7 | guerrero negro\n",
      "Processing Record 43 of Set 7 | sayyan\n",
      "Processing Record 44 of Set 7 | fortuna\n",
      "Processing Record 45 of Set 7 | yulara\n",
      "Processing Record 46 of Set 7 | poso\n",
      "Processing Record 47 of Set 7 | placido de castro\n",
      "Processing Record 48 of Set 7 | mahajanga\n",
      "Processing Record 49 of Set 7 | paamiut\n",
      "Processing Record 50 of Set 7 | shubarshi\n",
      "Processing Record 0 of Set 8 | westport\n",
      "Processing Record 1 of Set 8 | fort nelson\n",
      "Processing Record 2 of Set 8 | sigli\n",
      "Processing Record 3 of Set 8 | scarborough\n",
      "Processing Record 4 of Set 8 | senno\n",
      "Processing Record 5 of Set 8 | flinders\n",
      "Processing Record 6 of Set 8 | bam\n",
      "Processing Record 7 of Set 8 | bibiani\n",
      "Processing Record 8 of Set 8 | ayagoz\n",
      "Processing Record 9 of Set 8 | naron\n",
      "Processing Record 10 of Set 8 | beldanga\n",
      "Processing Record 11 of Set 8 | fernandez\n",
      "Processing Record 12 of Set 8 | hurghada\n",
      "Processing Record 13 of Set 8 | west lafayette\n",
      "City not found. Skipping...\n",
      "Processing Record 14 of Set 8 | palu\n",
      "Processing Record 15 of Set 8 | hervey bay\n",
      "Processing Record 16 of Set 8 | atambua\n",
      "City not found. Skipping...\n",
      "Processing Record 17 of Set 8 | huron\n",
      "Processing Record 18 of Set 8 | weyburn\n",
      "Processing Record 19 of Set 8 | koroni\n",
      "Processing Record 20 of Set 8 | shache\n",
      "Processing Record 21 of Set 8 | cahul\n",
      "City not found. Skipping...\n",
      "Processing Record 22 of Set 8 | nishihara\n"
     ]
    },
    {
     "name": "stdout",
     "output_type": "stream",
     "text": [
      "Processing Record 23 of Set 8 | makakilo city\n",
      "Processing Record 24 of Set 8 | veinticinco de mayo\n",
      "Processing Record 25 of Set 8 | nanortalik\n",
      "Processing Record 26 of Set 8 | margate\n",
      "Processing Record 27 of Set 8 | beaverlodge\n",
      "Processing Record 28 of Set 8 | quatre cocos\n",
      "City not found. Skipping...\n",
      "Processing Record 29 of Set 8 | eyl\n",
      "Processing Record 30 of Set 8 | minab\n",
      "Processing Record 31 of Set 8 | batagay\n",
      "Processing Record 32 of Set 8 | riyadh\n",
      "City not found. Skipping...\n",
      "Processing Record 33 of Set 8 | shellbrook\n",
      "Processing Record 34 of Set 8 | goderich\n",
      "Processing Record 35 of Set 8 | tuatapere\n",
      "Processing Record 36 of Set 8 | nhulunbuy\n",
      "Processing Record 37 of Set 8 | port-gentil\n",
      "Processing Record 38 of Set 8 | tamiahua\n",
      "Processing Record 39 of Set 8 | dunedin\n",
      "Processing Record 40 of Set 8 | bambanglipuro\n",
      "Processing Record 41 of Set 8 | medak\n",
      "Processing Record 42 of Set 8 | calama\n",
      "Processing Record 43 of Set 8 | bloemfontein\n",
      "Processing Record 44 of Set 8 | banda aceh\n",
      "Processing Record 45 of Set 8 | oxford\n",
      "Processing Record 46 of Set 8 | lasa\n",
      "Processing Record 47 of Set 8 | aja\n",
      "Processing Record 48 of Set 8 | mazabuka\n",
      "Processing Record 49 of Set 8 | jamame\n",
      "Processing Record 50 of Set 8 | karasjok\n",
      "Processing Record 0 of Set 9 | praya\n",
      "Processing Record 1 of Set 9 | zyryanka\n",
      "Processing Record 2 of Set 9 | cockburn town\n",
      "Processing Record 3 of Set 9 | mariental\n",
      "Processing Record 4 of Set 9 | egvekinot\n",
      "Processing Record 5 of Set 9 | develi\n",
      "Processing Record 6 of Set 9 | zeya\n",
      "Processing Record 7 of Set 9 | adrar\n",
      "Processing Record 8 of Set 9 | bend\n",
      "Processing Record 9 of Set 9 | kursumlija\n",
      "Processing Record 10 of Set 9 | ampanihy\n",
      "City not found. Skipping...\n",
      "Processing Record 11 of Set 9 | athabasca\n",
      "Processing Record 12 of Set 9 | kosai\n",
      "Processing Record 13 of Set 9 | richards bay\n",
      "Processing Record 14 of Set 9 | nelson bay\n",
      "Processing Record 15 of Set 9 | mocajuba\n",
      "Processing Record 16 of Set 9 | tieli\n",
      "Processing Record 17 of Set 9 | ust-kuyga\n",
      "Processing Record 18 of Set 9 | buraydah\n",
      "Processing Record 19 of Set 9 | pristina\n",
      "Processing Record 20 of Set 9 | campbellton\n",
      "Processing Record 21 of Set 9 | wanning\n",
      "Processing Record 22 of Set 9 | soyo\n",
      "City not found. Skipping...\n",
      "Processing Record 23 of Set 9 | dubti\n",
      "Processing Record 24 of Set 9 | morehead\n",
      "Processing Record 25 of Set 9 | savannah bight\n",
      "Processing Record 26 of Set 9 | takoradi\n",
      "Processing Record 27 of Set 9 | vestmanna\n",
      "City not found. Skipping...\n",
      "Processing Record 28 of Set 9 | rancho palos verdes\n",
      "Processing Record 29 of Set 9 | pontianak\n",
      "Processing Record 30 of Set 9 | vestmannaeyjar\n",
      "Processing Record 31 of Set 9 | balkhash\n",
      "City not found. Skipping...\n",
      "Processing Record 32 of Set 9 | hirado\n",
      "Processing Record 33 of Set 9 | merrill\n",
      "Processing Record 34 of Set 9 | alice\n",
      "Processing Record 35 of Set 9 | marrakesh\n",
      "Processing Record 36 of Set 9 | rocky mountain house\n",
      "Processing Record 37 of Set 9 | xuanhua\n",
      "Processing Record 38 of Set 9 | lesnikovo\n",
      "Processing Record 39 of Set 9 | gotsu\n",
      "Processing Record 40 of Set 9 | rio gallegos\n",
      "Processing Record 41 of Set 9 | zima\n",
      "Processing Record 42 of Set 9 | biasca\n",
      "Processing Record 43 of Set 9 | apache junction\n",
      "Processing Record 44 of Set 9 | japura\n",
      "City not found. Skipping...\n",
      "Processing Record 45 of Set 9 | las vegas\n",
      "Processing Record 46 of Set 9 | halifax\n",
      "Processing Record 47 of Set 9 | flin flon\n",
      "Processing Record 48 of Set 9 | itaituba\n",
      "Processing Record 49 of Set 9 | avera\n",
      "Processing Record 50 of Set 9 | sosnovo-ozerskoye\n",
      "City not found. Skipping...\n",
      "Processing Record 0 of Set 10 | mount gambier\n",
      "Processing Record 1 of Set 10 | sept-iles\n",
      "Processing Record 2 of Set 10 | oranjemund\n",
      "Processing Record 3 of Set 10 | nokaneng\n",
      "Processing Record 4 of Set 10 | limoeiro\n",
      "Processing Record 5 of Set 10 | vanderbijlpark\n",
      "Processing Record 6 of Set 10 | el cobre\n",
      "Processing Record 7 of Set 10 | vardo\n",
      "City not found. Skipping...\n",
      "Processing Record 8 of Set 10 | san vicente\n",
      "Processing Record 9 of Set 10 | kaduqli\n",
      "Processing Record 10 of Set 10 | san juan\n",
      "Processing Record 11 of Set 10 | palmer\n",
      "Processing Record 12 of Set 10 | srednekolymsk\n",
      "Processing Record 13 of Set 10 | boende\n",
      "Processing Record 14 of Set 10 | sabang\n",
      "Processing Record 15 of Set 10 | luderitz\n",
      "Processing Record 16 of Set 10 | kazachinskoye\n",
      "Processing Record 17 of Set 10 | sorland\n",
      "Processing Record 18 of Set 10 | kokopo\n",
      "Processing Record 19 of Set 10 | havoysund\n",
      "Processing Record 20 of Set 10 | puerto colombia\n",
      "Processing Record 21 of Set 10 | sobolevo\n",
      "Processing Record 22 of Set 10 | krasnaya gora\n",
      "Processing Record 23 of Set 10 | auki\n",
      "Processing Record 24 of Set 10 | chipinge\n",
      "Processing Record 25 of Set 10 | katete\n",
      "Processing Record 26 of Set 10 | alofi\n",
      "City not found. Skipping...\n",
      "Processing Record 27 of Set 10 | porto novo\n",
      "Processing Record 28 of Set 10 | ati\n",
      "City not found. Skipping...\n",
      "Processing Record 29 of Set 10 | yaan\n",
      "Processing Record 30 of Set 10 | leshukonskoye\n",
      "Processing Record 31 of Set 10 | moron\n",
      "Processing Record 32 of Set 10 | williams lake\n",
      "Processing Record 33 of Set 10 | sardarshahr\n",
      "Processing Record 34 of Set 10 | wodonga\n",
      "Processing Record 35 of Set 10 | manati\n",
      "Processing Record 36 of Set 10 | palamos\n",
      "Processing Record 37 of Set 10 | yining\n",
      "Processing Record 38 of Set 10 | ruthin\n",
      "Processing Record 39 of Set 10 | fushun\n",
      "Processing Record 40 of Set 10 | severomuysk\n",
      "Processing Record 41 of Set 10 | matara\n",
      "City not found. Skipping...\n",
      "Processing Record 42 of Set 10 | sabha\n",
      "Processing Record 43 of Set 10 | siparia\n",
      "Processing Record 44 of Set 10 | ca mau\n",
      "Processing Record 45 of Set 10 | banjar\n",
      "Processing Record 46 of Set 10 | wattegama\n",
      "City not found. Skipping...\n",
      "Processing Record 47 of Set 10 | khani\n",
      "Processing Record 48 of Set 10 | baiyin\n",
      "Processing Record 49 of Set 10 | tateyama\n",
      "Processing Record 50 of Set 10 | san carlos de bariloche\n",
      "Processing Record 0 of Set 11 | khartoum\n",
      "Processing Record 1 of Set 11 | shingu\n",
      "Processing Record 2 of Set 11 | ola\n",
      "Processing Record 3 of Set 11 | dajal\n",
      "Processing Record 4 of Set 11 | morro bay\n",
      "Processing Record 5 of Set 11 | maniitsoq\n",
      "Processing Record 6 of Set 11 | merauke\n",
      "Processing Record 7 of Set 11 | bethel\n",
      "Processing Record 8 of Set 11 | burns lake\n",
      "Processing Record 9 of Set 11 | vung tau\n",
      "Processing Record 10 of Set 11 | tankhoy\n",
      "Processing Record 11 of Set 11 | port macquarie\n",
      "Processing Record 12 of Set 11 | minusio\n",
      "Processing Record 13 of Set 11 | sangar\n",
      "Processing Record 14 of Set 11 | ancud\n",
      "Processing Record 15 of Set 11 | mujiayingzi\n",
      "Processing Record 16 of Set 11 | khasan\n",
      "Processing Record 17 of Set 11 | maumere\n",
      "City not found. Skipping...\n",
      "Processing Record 18 of Set 11 | kifri\n",
      "Processing Record 19 of Set 11 | tera\n",
      "Processing Record 20 of Set 11 | whitehorse\n",
      "Processing Record 21 of Set 11 | souris\n",
      "Processing Record 22 of Set 11 | kilindoni\n",
      "Processing Record 23 of Set 11 | abay\n",
      "Processing Record 24 of Set 11 | san juan del rio\n",
      "City not found. Skipping...\n",
      "Processing Record 25 of Set 11 | pangnirtung\n",
      "City not found. Skipping...\n",
      "Processing Record 26 of Set 11 | bassila\n",
      "Processing Record 27 of Set 11 | faanui\n",
      "Processing Record 28 of Set 11 | praia\n",
      "Processing Record 29 of Set 11 | kulhudhuffushi\n",
      "Processing Record 30 of Set 11 | yambio\n",
      "City not found. Skipping...\n",
      "Processing Record 31 of Set 11 | sao felix do xingu\n",
      "Processing Record 32 of Set 11 | mopipi\n",
      "Processing Record 33 of Set 11 | pokhara\n",
      "Processing Record 34 of Set 11 | katakwi\n",
      "Processing Record 35 of Set 11 | karoi\n",
      "City not found. Skipping...\n",
      "Processing Record 36 of Set 11 | mildura\n",
      "Processing Record 37 of Set 11 | limbang\n",
      "Processing Record 38 of Set 11 | beloha\n",
      "Processing Record 39 of Set 11 | moose factory\n",
      "Processing Record 40 of Set 11 | guajara\n",
      "Processing Record 41 of Set 11 | leh\n",
      "Processing Record 42 of Set 11 | xam nua\n",
      "Processing Record 43 of Set 11 | daru\n",
      "Processing Record 44 of Set 11 | almas\n",
      "Processing Record 45 of Set 11 | tautira\n",
      "Processing Record 46 of Set 11 | oria\n",
      "Processing Record 47 of Set 11 | eureka\n",
      "Processing Record 48 of Set 11 | carballo\n",
      "Processing Record 49 of Set 11 | safranbolu\n",
      "City not found. Skipping...\n",
      "Processing Record 50 of Set 11 | seymchan\n",
      "Processing Record 0 of Set 12 | zhuhai\n",
      "Processing Record 1 of Set 12 | losal\n",
      "Processing Record 2 of Set 12 | badou\n",
      "Processing Record 3 of Set 12 | bilibino\n"
     ]
    },
    {
     "name": "stdout",
     "output_type": "stream",
     "text": [
      "Processing Record 4 of Set 12 | amahai\n",
      "---------------------------\n",
      "Data Retrieval Complete\n",
      "---------------------------\n"
     ]
    }
   ],
   "source": [
    "# Set url and assign units measure in F \n",
    "url = 'http://api.openweathermap.org/data/2.5/weather?'\n",
    "units = 'imperial'\n",
    "\n",
    "# Build partial query URL\n",
    "query_url = f'{url}appid={weather_api_key}&units={units}&q='\n",
    "\n",
    "number = 1\n",
    "set_num = 1\n",
    "\n",
    "# List that's used to store the data for each city\n",
    "weather_data = []\n",
    "\n",
    "print('Beginning Data Retrieval')\n",
    "print('---------------------------')\n",
    "for city in cities:\n",
    "    response = requests.get(query_url + city).json()\n",
    "    \n",
    "    try:\n",
    "        weather_check = response['weather']\n",
    "        weather_data.append(response)     #collecting the data for 'weather_data' list\n",
    "        \n",
    "        print(f'Processing Record {number} of Set {set_num} | {city}')\n",
    "        number +=1 \n",
    "        if number == 51:\n",
    "            number=0\n",
    "            set_num +=1 \n",
    "    except:\n",
    "        print('City not found. Skipping...')\n",
    "        pass\n",
    "print('---------------------------')\n",
    "print('Data Retrieval Complete')\n",
    "print('---------------------------')\n",
    "\n",
    "# I wrote the code to match the output that was given (the answer in the cell without the code).\n",
    "# If it was up to me how to group the Sets, I would start counting Processing Record from 1 \n",
    "# instead 0. That way we would get 50 Records per Set. \n",
    "\n",
    "# Otherwise, when we start counting Processing Records from 0 (in each Set), in results \n",
    "# it gives us 51 records per Set.\n"
   ]
  },
  {
   "cell_type": "markdown",
   "metadata": {},
   "source": [
    "### Convert Raw Data to DataFrame\n",
    "* Export the city data into a .csv.\n",
    "* Display the DataFrame"
   ]
  },
  {
   "cell_type": "code",
   "execution_count": 78,
   "metadata": {},
   "outputs": [
    {
     "data": {
      "text/html": [
       "<div>\n",
       "<style scoped>\n",
       "    .dataframe tbody tr th:only-of-type {\n",
       "        vertical-align: middle;\n",
       "    }\n",
       "\n",
       "    .dataframe tbody tr th {\n",
       "        vertical-align: top;\n",
       "    }\n",
       "\n",
       "    .dataframe thead th {\n",
       "        text-align: right;\n",
       "    }\n",
       "</style>\n",
       "<table border=\"1\" class=\"dataframe\">\n",
       "  <thead>\n",
       "    <tr style=\"text-align: right;\">\n",
       "      <th></th>\n",
       "      <th>City</th>\n",
       "      <th>Lat</th>\n",
       "      <th>Lng</th>\n",
       "      <th>Max Temp</th>\n",
       "      <th>Humidity</th>\n",
       "      <th>Cloudiness</th>\n",
       "      <th>Wind Speed</th>\n",
       "      <th>Country</th>\n",
       "      <th>Date</th>\n",
       "    </tr>\n",
       "  </thead>\n",
       "  <tbody>\n",
       "    <tr>\n",
       "      <th>0</th>\n",
       "      <td>rikitea</td>\n",
       "      <td>-23.1203</td>\n",
       "      <td>-134.9692</td>\n",
       "      <td>73.18</td>\n",
       "      <td>72</td>\n",
       "      <td>1</td>\n",
       "      <td>17.87</td>\n",
       "      <td>PF</td>\n",
       "      <td>1626982231</td>\n",
       "    </tr>\n",
       "    <tr>\n",
       "      <th>1</th>\n",
       "      <td>berlevag</td>\n",
       "      <td>70.8578</td>\n",
       "      <td>29.0864</td>\n",
       "      <td>44.55</td>\n",
       "      <td>81</td>\n",
       "      <td>75</td>\n",
       "      <td>29.93</td>\n",
       "      <td>NO</td>\n",
       "      <td>1626981685</td>\n",
       "    </tr>\n",
       "    <tr>\n",
       "      <th>2</th>\n",
       "      <td>antalaha</td>\n",
       "      <td>-14.9003</td>\n",
       "      <td>50.2788</td>\n",
       "      <td>68.02</td>\n",
       "      <td>92</td>\n",
       "      <td>79</td>\n",
       "      <td>7.05</td>\n",
       "      <td>MG</td>\n",
       "      <td>1626982232</td>\n",
       "    </tr>\n",
       "    <tr>\n",
       "      <th>3</th>\n",
       "      <td>jamestown</td>\n",
       "      <td>42.0970</td>\n",
       "      <td>-79.2353</td>\n",
       "      <td>72.75</td>\n",
       "      <td>50</td>\n",
       "      <td>1</td>\n",
       "      <td>5.99</td>\n",
       "      <td>US</td>\n",
       "      <td>1626982221</td>\n",
       "    </tr>\n",
       "    <tr>\n",
       "      <th>4</th>\n",
       "      <td>hobyo</td>\n",
       "      <td>5.3505</td>\n",
       "      <td>48.5268</td>\n",
       "      <td>77.86</td>\n",
       "      <td>84</td>\n",
       "      <td>6</td>\n",
       "      <td>32.93</td>\n",
       "      <td>SO</td>\n",
       "      <td>1626981698</td>\n",
       "    </tr>\n",
       "  </tbody>\n",
       "</table>\n",
       "</div>"
      ],
      "text/plain": [
       "        City      Lat       Lng  Max Temp  Humidity  Cloudiness  Wind Speed  \\\n",
       "0    rikitea -23.1203 -134.9692     73.18        72           1       17.87   \n",
       "1   berlevag  70.8578   29.0864     44.55        81          75       29.93   \n",
       "2   antalaha -14.9003   50.2788     68.02        92          79        7.05   \n",
       "3  jamestown  42.0970  -79.2353     72.75        50           1        5.99   \n",
       "4      hobyo   5.3505   48.5268     77.86        84           6       32.93   \n",
       "\n",
       "  Country        Date  \n",
       "0      PF  1626982231  \n",
       "1      NO  1626981685  \n",
       "2      MG  1626982232  \n",
       "3      US  1626982221  \n",
       "4      SO  1626981698  "
      ]
     },
     "execution_count": 78,
     "metadata": {},
     "output_type": "execute_result"
    }
   ],
   "source": [
    "output_path = os.path.join('..','output_data','cities_data.csv')\n",
    "with open (output_path, 'w', encoding = 'utf-8') as csvfile:\n",
    "    csvwriter = csv.writer(csvfile, delimiter = \",\")\n",
    "    csvwriter.writerow (['City','Lat','Lng','Max Temp','Humidity','Cloudiness','Wind Speed','Country','Date'])    \n",
    "    \n",
    "    for index in range(len(weather_data)):    \n",
    "        City = cities[index]\n",
    "        Lat = weather_data[index]['coord']['lat']\n",
    "        Lng = weather_data[index]['coord']['lon']\n",
    "        Max_Temp = weather_data[index]['main']['temp']\n",
    "        Humidity = weather_data[index]['main']['humidity']                                \n",
    "        Cloudiness = weather_data[index]['clouds']['all']\n",
    "        Wind_Speed = weather_data[index]['wind']['speed']\n",
    "        Country = weather_data[index]['sys']['country']\n",
    "        Date = weather_data[index]['dt']\n",
    "        \n",
    "        csvwriter.writerow ([City, Lat, Lng, Max_Temp, Humidity, Cloudiness, Wind_Speed, Country, Date])\n",
    "    \n",
    "# Creating Data Frame\n",
    "Cities_df = pd.read_csv(output_path)\n",
    "Cities_df.head()"
   ]
  },
  {
   "cell_type": "code",
   "execution_count": 11,
   "metadata": {},
   "outputs": [
    {
     "data": {
      "text/html": [
       "<div>\n",
       "<style scoped>\n",
       "    .dataframe tbody tr th:only-of-type {\n",
       "        vertical-align: middle;\n",
       "    }\n",
       "\n",
       "    .dataframe tbody tr th {\n",
       "        vertical-align: top;\n",
       "    }\n",
       "\n",
       "    .dataframe thead th {\n",
       "        text-align: right;\n",
       "    }\n",
       "</style>\n",
       "<table border=\"1\" class=\"dataframe\">\n",
       "  <thead>\n",
       "    <tr style=\"text-align: right;\">\n",
       "      <th></th>\n",
       "      <th>Lat</th>\n",
       "      <th>Lng</th>\n",
       "      <th>Max Temp</th>\n",
       "      <th>Humidity</th>\n",
       "      <th>Cloudiness</th>\n",
       "      <th>Wind Speed</th>\n",
       "      <th>Date</th>\n",
       "    </tr>\n",
       "  </thead>\n",
       "  <tbody>\n",
       "    <tr>\n",
       "      <th>count</th>\n",
       "      <td>565.000000</td>\n",
       "      <td>565.000000</td>\n",
       "      <td>565.000000</td>\n",
       "      <td>565.000000</td>\n",
       "      <td>565.000000</td>\n",
       "      <td>565.000000</td>\n",
       "      <td>5.650000e+02</td>\n",
       "    </tr>\n",
       "    <tr>\n",
       "      <th>mean</th>\n",
       "      <td>20.099565</td>\n",
       "      <td>20.728537</td>\n",
       "      <td>69.244018</td>\n",
       "      <td>69.596460</td>\n",
       "      <td>55.212389</td>\n",
       "      <td>8.191982</td>\n",
       "      <td>1.626982e+09</td>\n",
       "    </tr>\n",
       "    <tr>\n",
       "      <th>std</th>\n",
       "      <td>32.922694</td>\n",
       "      <td>91.892347</td>\n",
       "      <td>14.951447</td>\n",
       "      <td>21.794006</td>\n",
       "      <td>39.313130</td>\n",
       "      <td>6.011116</td>\n",
       "      <td>1.347417e+02</td>\n",
       "    </tr>\n",
       "    <tr>\n",
       "      <th>min</th>\n",
       "      <td>-54.800000</td>\n",
       "      <td>-179.166700</td>\n",
       "      <td>29.680000</td>\n",
       "      <td>6.000000</td>\n",
       "      <td>0.000000</td>\n",
       "      <td>0.000000</td>\n",
       "      <td>1.626981e+09</td>\n",
       "    </tr>\n",
       "    <tr>\n",
       "      <th>25%</th>\n",
       "      <td>-5.198900</td>\n",
       "      <td>-60.620600</td>\n",
       "      <td>57.700000</td>\n",
       "      <td>57.000000</td>\n",
       "      <td>14.000000</td>\n",
       "      <td>3.440000</td>\n",
       "      <td>1.626982e+09</td>\n",
       "    </tr>\n",
       "    <tr>\n",
       "      <th>50%</th>\n",
       "      <td>24.699700</td>\n",
       "      <td>27.748000</td>\n",
       "      <td>72.370000</td>\n",
       "      <td>75.000000</td>\n",
       "      <td>64.000000</td>\n",
       "      <td>6.710000</td>\n",
       "      <td>1.626982e+09</td>\n",
       "    </tr>\n",
       "    <tr>\n",
       "      <th>75%</th>\n",
       "      <td>46.844000</td>\n",
       "      <td>103.792200</td>\n",
       "      <td>79.520000</td>\n",
       "      <td>86.000000</td>\n",
       "      <td>97.000000</td>\n",
       "      <td>11.500000</td>\n",
       "      <td>1.626982e+09</td>\n",
       "    </tr>\n",
       "    <tr>\n",
       "      <th>max</th>\n",
       "      <td>78.218600</td>\n",
       "      <td>179.316700</td>\n",
       "      <td>107.010000</td>\n",
       "      <td>100.000000</td>\n",
       "      <td>100.000000</td>\n",
       "      <td>33.440000</td>\n",
       "      <td>1.626982e+09</td>\n",
       "    </tr>\n",
       "  </tbody>\n",
       "</table>\n",
       "</div>"
      ],
      "text/plain": [
       "              Lat         Lng    Max Temp    Humidity  Cloudiness  Wind Speed  \\\n",
       "count  565.000000  565.000000  565.000000  565.000000  565.000000  565.000000   \n",
       "mean    20.099565   20.728537   69.244018   69.596460   55.212389    8.191982   \n",
       "std     32.922694   91.892347   14.951447   21.794006   39.313130    6.011116   \n",
       "min    -54.800000 -179.166700   29.680000    6.000000    0.000000    0.000000   \n",
       "25%     -5.198900  -60.620600   57.700000   57.000000   14.000000    3.440000   \n",
       "50%     24.699700   27.748000   72.370000   75.000000   64.000000    6.710000   \n",
       "75%     46.844000  103.792200   79.520000   86.000000   97.000000   11.500000   \n",
       "max     78.218600  179.316700  107.010000  100.000000  100.000000   33.440000   \n",
       "\n",
       "               Date  \n",
       "count  5.650000e+02  \n",
       "mean   1.626982e+09  \n",
       "std    1.347417e+02  \n",
       "min    1.626981e+09  \n",
       "25%    1.626982e+09  \n",
       "50%    1.626982e+09  \n",
       "75%    1.626982e+09  \n",
       "max    1.626982e+09  "
      ]
     },
     "execution_count": 11,
     "metadata": {},
     "output_type": "execute_result"
    }
   ],
   "source": [
    "Stats_df = Cities_df.describe()\n",
    "Stats_df"
   ]
  },
  {
   "cell_type": "markdown",
   "metadata": {},
   "source": [
    "## Inspect the data and remove the cities where the humidity > 100%.\n",
    "----\n",
    "Skip this step if there are no cities that have humidity > 100%. "
   ]
  },
  {
   "cell_type": "code",
   "execution_count": 33,
   "metadata": {},
   "outputs": [
    {
     "data": {
      "text/html": [
       "<div>\n",
       "<style scoped>\n",
       "    .dataframe tbody tr th:only-of-type {\n",
       "        vertical-align: middle;\n",
       "    }\n",
       "\n",
       "    .dataframe tbody tr th {\n",
       "        vertical-align: top;\n",
       "    }\n",
       "\n",
       "    .dataframe thead th {\n",
       "        text-align: right;\n",
       "    }\n",
       "</style>\n",
       "<table border=\"1\" class=\"dataframe\">\n",
       "  <thead>\n",
       "    <tr style=\"text-align: right;\">\n",
       "      <th></th>\n",
       "      <th>Lat</th>\n",
       "      <th>Lng</th>\n",
       "      <th>Max Temp</th>\n",
       "      <th>Humidity</th>\n",
       "      <th>Cloudiness</th>\n",
       "      <th>Wind Speed</th>\n",
       "      <th>Date</th>\n",
       "    </tr>\n",
       "  </thead>\n",
       "  <tbody>\n",
       "    <tr>\n",
       "      <th>count</th>\n",
       "      <td>565.000000</td>\n",
       "      <td>565.000000</td>\n",
       "      <td>565.000000</td>\n",
       "      <td>565.000000</td>\n",
       "      <td>565.000000</td>\n",
       "      <td>565.000000</td>\n",
       "      <td>5.650000e+02</td>\n",
       "    </tr>\n",
       "    <tr>\n",
       "      <th>mean</th>\n",
       "      <td>20.099565</td>\n",
       "      <td>20.728537</td>\n",
       "      <td>69.244018</td>\n",
       "      <td>69.596460</td>\n",
       "      <td>55.212389</td>\n",
       "      <td>8.191982</td>\n",
       "      <td>1.626982e+09</td>\n",
       "    </tr>\n",
       "    <tr>\n",
       "      <th>std</th>\n",
       "      <td>32.922694</td>\n",
       "      <td>91.892347</td>\n",
       "      <td>14.951447</td>\n",
       "      <td>21.794006</td>\n",
       "      <td>39.313130</td>\n",
       "      <td>6.011116</td>\n",
       "      <td>1.347417e+02</td>\n",
       "    </tr>\n",
       "    <tr>\n",
       "      <th>min</th>\n",
       "      <td>-54.800000</td>\n",
       "      <td>-179.166700</td>\n",
       "      <td>29.680000</td>\n",
       "      <td>6.000000</td>\n",
       "      <td>0.000000</td>\n",
       "      <td>0.000000</td>\n",
       "      <td>1.626981e+09</td>\n",
       "    </tr>\n",
       "    <tr>\n",
       "      <th>25%</th>\n",
       "      <td>-5.198900</td>\n",
       "      <td>-60.620600</td>\n",
       "      <td>57.700000</td>\n",
       "      <td>57.000000</td>\n",
       "      <td>14.000000</td>\n",
       "      <td>3.440000</td>\n",
       "      <td>1.626982e+09</td>\n",
       "    </tr>\n",
       "    <tr>\n",
       "      <th>50%</th>\n",
       "      <td>24.699700</td>\n",
       "      <td>27.748000</td>\n",
       "      <td>72.370000</td>\n",
       "      <td>75.000000</td>\n",
       "      <td>64.000000</td>\n",
       "      <td>6.710000</td>\n",
       "      <td>1.626982e+09</td>\n",
       "    </tr>\n",
       "    <tr>\n",
       "      <th>75%</th>\n",
       "      <td>46.844000</td>\n",
       "      <td>103.792200</td>\n",
       "      <td>79.520000</td>\n",
       "      <td>86.000000</td>\n",
       "      <td>97.000000</td>\n",
       "      <td>11.500000</td>\n",
       "      <td>1.626982e+09</td>\n",
       "    </tr>\n",
       "    <tr>\n",
       "      <th>max</th>\n",
       "      <td>78.218600</td>\n",
       "      <td>179.316700</td>\n",
       "      <td>107.010000</td>\n",
       "      <td>100.000000</td>\n",
       "      <td>100.000000</td>\n",
       "      <td>33.440000</td>\n",
       "      <td>1.626982e+09</td>\n",
       "    </tr>\n",
       "  </tbody>\n",
       "</table>\n",
       "</div>"
      ],
      "text/plain": [
       "              Lat         Lng    Max Temp    Humidity  Cloudiness  Wind Speed  \\\n",
       "count  565.000000  565.000000  565.000000  565.000000  565.000000  565.000000   \n",
       "mean    20.099565   20.728537   69.244018   69.596460   55.212389    8.191982   \n",
       "std     32.922694   91.892347   14.951447   21.794006   39.313130    6.011116   \n",
       "min    -54.800000 -179.166700   29.680000    6.000000    0.000000    0.000000   \n",
       "25%     -5.198900  -60.620600   57.700000   57.000000   14.000000    3.440000   \n",
       "50%     24.699700   27.748000   72.370000   75.000000   64.000000    6.710000   \n",
       "75%     46.844000  103.792200   79.520000   86.000000   97.000000   11.500000   \n",
       "max     78.218600  179.316700  107.010000  100.000000  100.000000   33.440000   \n",
       "\n",
       "               Date  \n",
       "count  5.650000e+02  \n",
       "mean   1.626982e+09  \n",
       "std    1.347417e+02  \n",
       "min    1.626981e+09  \n",
       "25%    1.626982e+09  \n",
       "50%    1.626982e+09  \n",
       "75%    1.626982e+09  \n",
       "max    1.626982e+09  "
      ]
     },
     "execution_count": 33,
     "metadata": {},
     "output_type": "execute_result"
    }
   ],
   "source": [
    "#I don't have cities with over 100% of Humidity at the moment of working with the current Data Set.\n",
    "#In case I re-run my code, and different random cities appear which do have over 100% of Humidity...\n",
    "#then the code below will filter out and keep the cities with no more than 100% Humidity.\n",
    "\n",
    "Filtered_df = Cities_df.loc[Cities_df['Humidity'] <=100, :]\n",
    "Updated_Stats_df = Filtered_df.describe()\n",
    "Updated_Stats_df"
   ]
  },
  {
   "cell_type": "code",
   "execution_count": 35,
   "metadata": {},
   "outputs": [
    {
     "data": {
      "text/plain": [
       "[]"
      ]
     },
     "execution_count": 35,
     "metadata": {},
     "output_type": "execute_result"
    }
   ],
   "source": [
    "#  Get the indices of cities that have humidity over 100%.\n",
    "\n",
    "# Again, I did it just because if I re-run my code and cities with over 100% Humidity will appear.\n",
    "#I didn't need to do this step for my curent Data Set.\n",
    "\n",
    "Index_list = Cities_df[Cities_df['Humidity'] > 100].index.tolist()\n",
    "Index_list"
   ]
  },
  {
   "cell_type": "code",
   "execution_count": 38,
   "metadata": {},
   "outputs": [
    {
     "data": {
      "text/html": [
       "<div>\n",
       "<style scoped>\n",
       "    .dataframe tbody tr th:only-of-type {\n",
       "        vertical-align: middle;\n",
       "    }\n",
       "\n",
       "    .dataframe tbody tr th {\n",
       "        vertical-align: top;\n",
       "    }\n",
       "\n",
       "    .dataframe thead th {\n",
       "        text-align: right;\n",
       "    }\n",
       "</style>\n",
       "<table border=\"1\" class=\"dataframe\">\n",
       "  <thead>\n",
       "    <tr style=\"text-align: right;\">\n",
       "      <th></th>\n",
       "      <th>City</th>\n",
       "      <th>Lat</th>\n",
       "      <th>Lng</th>\n",
       "      <th>Max Temp</th>\n",
       "      <th>Humidity</th>\n",
       "      <th>Cloudiness</th>\n",
       "      <th>Wind Speed</th>\n",
       "      <th>Country</th>\n",
       "      <th>Date</th>\n",
       "    </tr>\n",
       "  </thead>\n",
       "  <tbody>\n",
       "    <tr>\n",
       "      <th>0</th>\n",
       "      <td>rikitea</td>\n",
       "      <td>-23.1203</td>\n",
       "      <td>-134.9692</td>\n",
       "      <td>73.18</td>\n",
       "      <td>72</td>\n",
       "      <td>1</td>\n",
       "      <td>17.87</td>\n",
       "      <td>PF</td>\n",
       "      <td>1626982231</td>\n",
       "    </tr>\n",
       "    <tr>\n",
       "      <th>1</th>\n",
       "      <td>berlevag</td>\n",
       "      <td>70.8578</td>\n",
       "      <td>29.0864</td>\n",
       "      <td>44.55</td>\n",
       "      <td>81</td>\n",
       "      <td>75</td>\n",
       "      <td>29.93</td>\n",
       "      <td>NO</td>\n",
       "      <td>1626981685</td>\n",
       "    </tr>\n",
       "    <tr>\n",
       "      <th>2</th>\n",
       "      <td>antalaha</td>\n",
       "      <td>-14.9003</td>\n",
       "      <td>50.2788</td>\n",
       "      <td>68.02</td>\n",
       "      <td>92</td>\n",
       "      <td>79</td>\n",
       "      <td>7.05</td>\n",
       "      <td>MG</td>\n",
       "      <td>1626982232</td>\n",
       "    </tr>\n",
       "    <tr>\n",
       "      <th>3</th>\n",
       "      <td>jamestown</td>\n",
       "      <td>42.0970</td>\n",
       "      <td>-79.2353</td>\n",
       "      <td>72.75</td>\n",
       "      <td>50</td>\n",
       "      <td>1</td>\n",
       "      <td>5.99</td>\n",
       "      <td>US</td>\n",
       "      <td>1626982221</td>\n",
       "    </tr>\n",
       "    <tr>\n",
       "      <th>4</th>\n",
       "      <td>hobyo</td>\n",
       "      <td>5.3505</td>\n",
       "      <td>48.5268</td>\n",
       "      <td>77.86</td>\n",
       "      <td>84</td>\n",
       "      <td>6</td>\n",
       "      <td>32.93</td>\n",
       "      <td>SO</td>\n",
       "      <td>1626981698</td>\n",
       "    </tr>\n",
       "  </tbody>\n",
       "</table>\n",
       "</div>"
      ],
      "text/plain": [
       "        City      Lat       Lng  Max Temp  Humidity  Cloudiness  Wind Speed  \\\n",
       "0    rikitea -23.1203 -134.9692     73.18        72           1       17.87   \n",
       "1   berlevag  70.8578   29.0864     44.55        81          75       29.93   \n",
       "2   antalaha -14.9003   50.2788     68.02        92          79        7.05   \n",
       "3  jamestown  42.0970  -79.2353     72.75        50           1        5.99   \n",
       "4      hobyo   5.3505   48.5268     77.86        84           6       32.93   \n",
       "\n",
       "  Country        Date  \n",
       "0      PF  1626982231  \n",
       "1      NO  1626981685  \n",
       "2      MG  1626982232  \n",
       "3      US  1626982221  \n",
       "4      SO  1626981698  "
      ]
     },
     "execution_count": 38,
     "metadata": {},
     "output_type": "execute_result"
    }
   ],
   "source": [
    "# Make a new DataFrame equal to the city data to drop all humidity outliers by index.\n",
    "# Passing \"inplace=False\" will make a copy of the city_data DataFrame, which we call \"clean_city_data\".\n",
    "\n",
    "# I did it above with the .loc function... So I call it. (but as I stated above, this whole step wasn't needed for my curent Data Set)\n",
    "Filtered_df.head()"
   ]
  },
  {
   "cell_type": "markdown",
   "metadata": {},
   "source": [
    "## Plotting the Data\n",
    "* Use proper labeling of the plots using plot titles (including date of analysis) and axes labels.\n",
    "* Save the plotted figures as .pngs."
   ]
  },
  {
   "cell_type": "markdown",
   "metadata": {},
   "source": [
    "## Latitude vs. Temperature Plot"
   ]
  },
  {
   "cell_type": "code",
   "execution_count": 87,
   "metadata": {},
   "outputs": [],
   "source": [
    "#Defining a general function to create Scatter Plot Graphs\n",
    "def weather_scatter_plot(x_values, y_values,title, x_label, y_label):\n",
    "    \n",
    "    #Create Scatter Plot\n",
    "    plt.scatter(x_values,y_values, edgecolors='black')\n",
    "    plt.grid(color='#9FA095', alpha=1)\n",
    "    \n",
    "    #Title and Labels\n",
    "    plt.title(title)\n",
    "    plt.xlabel(x_label)\n",
    "    plt.ylabel(y_label)"
   ]
  },
  {
   "cell_type": "code",
   "execution_count": 93,
   "metadata": {},
   "outputs": [
    {
     "data": {
      "image/png": "[encoded data removed]",
      "text/plain": [
       "<Figure size 432x288 with 1 Axes>"
      ]
     },
     "metadata": {
      "needs_background": "light"
     },
     "output_type": "display_data"
    }
   ],
   "source": [
    "#Get today's date and format it mm/dd/yy\n",
    "Today = date.today()\n",
    "Todays_date = Today.strftime('%m/%d/%y')\n",
    "\n",
    "#Creating City Latitude vs Max Temperature scatter plot\n",
    "weather_scatter_plot(Filtered_df['Lat'], Filtered_df['Max Temp'],\n",
    "                     f'City Latitude vs. Max Temperature ({Todays_date})',\n",
    "                     'Latitude', 'Max Temperature (f)')\n",
    "\n",
    "#Saving Figure to my output_data folder\n",
    "plt.savefig(\"../output_data/Lat_vs_MaxTemp.png\")\n",
    "\n",
    "#Show the plot\n",
    "plt.show()"
   ]
  },
  {
   "cell_type": "markdown",
   "metadata": {},
   "source": [
    "###  Analysis:\n",
    "\n",
    "This graph shows us that the furthest we are from the equator the maximum temperature drops. The reason behind it - earth shape is round and not every place on earth receives the same amount of sunlight heat (warmth). \n",
    "Also, we see our Max Temperature isn't exactly on 0 degree Latitude  but rather between 20 and 30 degree Latitudes. This makes sense as we know that the maximum temperature on Earth are around the Tropic of Cancer."
   ]
  },
  {
   "cell_type": "markdown",
   "metadata": {},
   "source": [
    "## Latitude vs. Humidity Plot"
   ]
  },
  {
   "cell_type": "code",
   "execution_count": 89,
   "metadata": {},
   "outputs": [
    {
     "data": {
      "image/png": "[encoded data removed]",
      "text/plain": [
       "<Figure size 432x288 with 1 Axes>"
      ]
     },
     "metadata": {
      "needs_background": "light"
     },
     "output_type": "display_data"
    }
   ],
   "source": [
    "#Creating City Latitude vs Max Temperature scatter plot\n",
    "weather_scatter_plot(Filtered_df['Lat'], Filtered_df['Humidity'],\n",
    "                     f'City Latitude vs. Humidity ({Todays_date})',\n",
    "                     'Latitude', 'Humidity (%)')\n",
    "\n",
    "#Saving Figure to my output_data folder\n",
    "plt.savefig(\"../output_data/Lat_vs_Humidity.png\")\n",
    "\n",
    "#Show the plot\n",
    "plt.show()"
   ]
  },
  {
   "cell_type": "markdown",
   "metadata": {},
   "source": [
    "###  Analysis:\n",
    "\n",
    "It doesn't seem like there is any correlation between Latitude and Humidity. The Humidity in cities is spread out across all Latitudes."
   ]
  },
  {
   "cell_type": "markdown",
   "metadata": {},
   "source": [
    "## Latitude vs. Cloudiness Plot"
   ]
  },
  {
   "cell_type": "code",
   "execution_count": 90,
   "metadata": {},
   "outputs": [
    {
     "data": {
      "image/png": "[encoded data removed]",
      "text/plain": [
       "<Figure size 432x288 with 1 Axes>"
      ]
     },
     "metadata": {
      "needs_background": "light"
     },
     "output_type": "display_data"
    }
   ],
   "source": [
    "#Creating City Latitude vs Cloudiness scatter plot\n",
    "weather_scatter_plot(Filtered_df['Lat'], Filtered_df['Cloudiness'],\n",
    "                     f'City Latitude vs. Cloudiness ({Todays_date})',\n",
    "                     'Latitude', 'Cloudiness (%)')\n",
    "\n",
    "#Saving Figure to my output_data folder\n",
    "plt.savefig(\"../output_data/Lat_vs_Cloudiness.png\")\n",
    "\n",
    "#Show the plot\n",
    "plt.show()"
   ]
  },
  {
   "cell_type": "markdown",
   "metadata": {},
   "source": [
    "###  Analysis:\n",
    "\n",
    "There is no correlations between Latitude and Cloudiness. However, we do see there are bands of cities at various levels of Cloudiness (for example, Cloudiness: 0, 20, 40, 75,90, 100)."
   ]
  },
  {
   "cell_type": "markdown",
   "metadata": {},
   "source": [
    "## Latitude vs. Wind Speed Plot"
   ]
  },
  {
   "cell_type": "code",
   "execution_count": 92,
   "metadata": {},
   "outputs": [
    {
     "data": {
      "image/png": "[encoded data removed]",
      "text/plain": [
       "<Figure size 432x288 with 1 Axes>"
      ]
     },
     "metadata": {
      "needs_background": "light"
     },
     "output_type": "display_data"
    }
   ],
   "source": [
    "#Creating City Latitude vs Wind Speed scatter plot\n",
    "weather_scatter_plot(Filtered_df['Lat'], Filtered_df['Wind Speed'],\n",
    "                     f'City Latitude vs. Wind Speed ({Todays_date})',\n",
    "                     'Latitude', 'Wind Speed (mph)')\n",
    "\n",
    "#Saving Figure to my output_data folder\n",
    "plt.savefig(\"../output_data/Lat_vs_WindSpeed.png\")\n",
    "\n",
    "#Show the plot\n",
    "plt.show()"
   ]
  },
  {
   "cell_type": "markdown",
   "metadata": {},
   "source": [
    "###  Analysis:\n",
    "\n",
    "There is no strong corelation between Latitude and Wind Speed. The plot shows that most of the cities fall into 0 to 15 mph Wind Speed. "
   ]
  },
  {
   "cell_type": "markdown",
   "metadata": {},
   "source": [
    "## Linear Regression"
   ]
  },
  {
   "cell_type": "code",
   "execution_count": 96,
   "metadata": {},
   "outputs": [],
   "source": [
    "#Defining a general function to create Linear Regression Plots\n",
    "def plot_linear_regression(x_values, y_values, x_line_eq, y_line_eq, x_label, y_label):\n",
    "    \n",
    "    #Perform  Linear Regression\n",
    "    (slope, intercept, rvalue, pvalue, stderr) = linregress(x_values, y_values) \n",
    "    \n",
    "    #Get regression values\n",
    "    regress_values = x_values * slope + intercept\n",
    "    \n",
    "    #Create line equation string\n",
    "    line_eq = \"y = \" + str(round(slope,2)) + \"x + \" + str(round(intercept,2))\n",
    "    \n",
    "    #Create Scatter Plot\n",
    "    plt.scatter(x_values,y_values)\n",
    "    plt.plot(x_values,regress_values,\"r-\")\n",
    "    \n",
    "    #Displaying equation on the plot\n",
    "    plt.annotate(line_eq,(x_line_eq, y_line_eq),fontsize=15,color=\"red\")\n",
    "    \n",
    "    #Labels\n",
    "    plt.xlabel(x_label)\n",
    "    plt.ylabel(y_label)\n",
    "    \n",
    "    #Printing r-values\n",
    "    print(f'The r-value is: {rvalue**2}')"
   ]
  },
  {
   "cell_type": "markdown",
   "metadata": {},
   "source": [
    "####  Northern Hemisphere - Max Temp vs. Latitude Linear Regression"
   ]
  },
  {
   "cell_type": "code",
   "execution_count": 102,
   "metadata": {},
   "outputs": [
    {
     "name": "stdout",
     "output_type": "stream",
     "text": [
      "The r-value is: 0.5016231090500254\n"
     ]
    },
    {
     "data": {
      "image/png": "[encoded data removed]",
      "text/plain": [
       "<Figure size 432x288 with 1 Axes>"
      ]
     },
     "metadata": {
      "needs_background": "light"
     },
     "output_type": "display_data"
    }
   ],
   "source": [
    "#Filtering the Data to get Northern Hemisphere\n",
    "Northern_df = Filtered_df.loc[Filtered_df['Lat']>0, :]\n",
    "\n",
    "#Plotting Latitude vs Max Temp chart for the Nothern Hemisphere \n",
    "plot_linear_regression(Northern_df['Lat'], Northern_df['Max Temp'],1,35,'Latitude', 'Max Temp')\n",
    "\n",
    "#Saving Figure to my output_data folder\n",
    "plt.savefig(\"../output_data/NorthernHem_Lat_vs_MaxTemp.png\")\n",
    "\n",
    "#Show the plot\n",
    "plt.show()"
   ]
  },
  {
   "cell_type": "markdown",
   "metadata": {},
   "source": [
    "### Analysis:\n",
    "\n",
    "There is moderate negative relationship between Latitude and Max Temp in the Northern Hemisphere. Max Temp decreases when we move away from the equator."
   ]
  },
  {
   "cell_type": "markdown",
   "metadata": {},
   "source": [
    "####  Southern Hemisphere - Max Temp vs. Latitude Linear Regression"
   ]
  },
  {
   "cell_type": "code",
   "execution_count": 129,
   "metadata": {},
   "outputs": [
    {
     "name": "stdout",
     "output_type": "stream",
     "text": [
      "The r-value is: 0.6018122360902879\n"
     ]
    },
    {
     "data": {
      "image/png": "[encoded data removed]",
      "text/plain": [
       "<Figure size 432x288 with 1 Axes>"
      ]
     },
     "metadata": {
      "needs_background": "light"
     },
     "output_type": "display_data"
    }
   ],
   "source": [
    "#Filtering the Data to get Southern Hemisphere\n",
    "Southern_df = Filtered_df.loc[Filtered_df['Lat']<0, :]\n",
    "\n",
    "#Plotting Latitude vs Max Temp chart for the Souhern Hemisphere \n",
    "plot_linear_regression(Southern_df['Lat'], Southern_df['Max Temp'],-55,90,'Latitude', 'Max Temp')\n",
    "\n",
    "#Saving Figure to my output_data folder\n",
    "plt.savefig(\"../output_data/SouthernHem_Lat_vs_MaxTemp.png\")\n",
    "\n",
    "#Show the plot\n",
    "plt.show()"
   ]
  },
  {
   "cell_type": "markdown",
   "metadata": {},
   "source": [
    "### Analysis:\n",
    "\n",
    "There is moderate positive relationship between Latitude and Max Temp in the Southern Hemisphere. As we get closer to equator, temperature increases."
   ]
  },
  {
   "cell_type": "markdown",
   "metadata": {},
   "source": [
    "####  Northern Hemisphere - Humidity (%) vs. Latitude Linear Regression"
   ]
  },
  {
   "cell_type": "code",
   "execution_count": 135,
   "metadata": {},
   "outputs": [
    {
     "name": "stdout",
     "output_type": "stream",
     "text": [
      "The r-value is: 0.0023154294377113623\n"
     ]
    },
    {
     "data": {
      "image/png": "[encoded data removed]",
      "text/plain": [
       "<Figure size 432x288 with 1 Axes>"
      ]
     },
     "metadata": {
      "needs_background": "light"
     },
     "output_type": "display_data"
    }
   ],
   "source": [
    "#Plotting Latitude vs Humidity chart for the Nothern Hemisphere \n",
    "plot_linear_regression(Northern_df['Lat'], Northern_df['Humidity'],0,15,'Latitude', 'Humidity (%)')\n",
    "\n",
    "#Saving Figure to my output_data folder\n",
    "plt.savefig(\"../output_data/NorthernHem_Lat_vs_Humidity.png\")\n",
    "\n",
    "#Show the plot\n",
    "plt.show()"
   ]
  },
  {
   "cell_type": "markdown",
   "metadata": {},
   "source": [
    "### Analysis:\n",
    "\n",
    "Our r-value is very close to 0. It is fair to say there is no linear relationship (if r < 0.25, it is consiedered as no relationship) between Latitude vs Humidity in the Nothern Hemisphere. Humidity level isn't affected by Latitude."
   ]
  },
  {
   "cell_type": "markdown",
   "metadata": {},
   "source": [
    "####  Southern Hemisphere - Humidity (%) vs. Latitude Linear Regression"
   ]
  },
  {
   "cell_type": "code",
   "execution_count": 136,
   "metadata": {},
   "outputs": [
    {
     "name": "stdout",
     "output_type": "stream",
     "text": [
      "The r-value is: 0.0001240836294671862\n"
     ]
    },
    {
     "data": {
      "image/png": "[encoded data removed]",
      "text/plain": [
       "<Figure size 432x288 with 1 Axes>"
      ]
     },
     "metadata": {
      "needs_background": "light"
     },
     "output_type": "display_data"
    }
   ],
   "source": [
    "#Plotting Latitude vs Humidity chart for the Southern Hemisphere \n",
    "plot_linear_regression(Southern_df['Lat'], Southern_df['Humidity'],-55,20,'Latitude', 'Humidity (%)')\n",
    "\n",
    "#Saving Figure to my output_data folder\n",
    "plt.savefig(\"../output_data/SouthernHem_Lat_vs_Humidity.png\")\n",
    "\n",
    "#Show the plot\n",
    "plt.show()"
   ]
  },
  {
   "cell_type": "markdown",
   "metadata": {},
   "source": [
    "### Analysis:\n",
    "\n",
    "Our r-value is very close to 0. It is fair to say there is no linear relationship (if r < 0.25, it is consiedered as no relationship) between Latitude vs Humidity in the Southern Hemisphere. Humidity level isn't affected by Latitude."
   ]
  },
  {
   "cell_type": "markdown",
   "metadata": {},
   "source": [
    "####  Northern Hemisphere - Cloudiness (%) vs. Latitude Linear Regression"
   ]
  },
  {
   "cell_type": "code",
   "execution_count": 137,
   "metadata": {},
   "outputs": [
    {
     "name": "stdout",
     "output_type": "stream",
     "text": [
      "The r-value is: 0.0006742439915446113\n"
     ]
    },
    {
     "data": {
      "image/png": "[encoded data removed]",
      "text/plain": [
       "<Figure size 432x288 with 1 Axes>"
      ]
     },
     "metadata": {
      "needs_background": "light"
     },
     "output_type": "display_data"
    }
   ],
   "source": [
    "#Plotting Latitude vs Cloudiness chart for the Nothern Hemisphere \n",
    "plot_linear_regression(Northern_df['Lat'], Northern_df['Cloudiness'],0,33,'Latitude', 'Cloudiness (%)')\n",
    "\n",
    "#Saving Figure to my output_data folder\n",
    "plt.savefig(\"../output_data/NorthernHem_Lat_vs_Cloudiness.png\")\n",
    "\n",
    "#Show the plot\n",
    "plt.show()"
   ]
  },
  {
   "cell_type": "markdown",
   "metadata": {},
   "source": [
    "### Analysis:\n",
    "\n",
    "Our r-value is very close to 0. It is fair to say there no linear relationship (if r < 0.25, it is consiedered as no relationship) between Latitude vs Cloudiness in the Nothern Hemisphere. Level of Cloudiness isn't affected by Latitude. The interesting thing here - there are bands of cities at certain cloudiness levels."
   ]
  },
  {
   "cell_type": "markdown",
   "metadata": {},
   "source": [
    "####  Southern Hemisphere - Cloudiness (%) vs. Latitude Linear Regression"
   ]
  },
  {
   "cell_type": "code",
   "execution_count": 138,
   "metadata": {},
   "outputs": [
    {
     "name": "stdout",
     "output_type": "stream",
     "text": [
      "The r-value is: 0.01077453977632141\n"
     ]
    },
    {
     "data": {
      "image/png": "[encoded data removed]",
      "text/plain": [
       "<Figure size 432x288 with 1 Axes>"
      ]
     },
     "metadata": {
      "needs_background": "light"
     },
     "output_type": "display_data"
    }
   ],
   "source": [
    "#Plotting Latitude vs Cloudiness chart for the Sothern Hemisphere \n",
    "plot_linear_regression(Southern_df['Lat'], Southern_df['Cloudiness'],-55,20,'Latitude', 'Cloudiness (%)')\n",
    "\n",
    "#Saving Figure to my output_data folder\n",
    "plt.savefig(\"../output_data/SouthernHem_Lat_vs_Cloudiness.png\")\n",
    "\n",
    "#Show the plot\n",
    "plt.show()"
   ]
  },
  {
   "cell_type": "markdown",
   "metadata": {},
   "source": [
    "### Analysis:\n",
    "\n",
    "Our r-value is very close to 0. It is fair to say there is no linear relationship (if r < 0.25, it is consiedered as no relationship) between Latitude vs Cloudiness in the Southern Hemisphere. Level of Cloudiness isn't affected by Latitude."
   ]
  },
  {
   "cell_type": "markdown",
   "metadata": {},
   "source": [
    "####  Northern Hemisphere - Wind Speed (mph) vs. Latitude Linear Regression"
   ]
  },
  {
   "cell_type": "code",
   "execution_count": 139,
   "metadata": {},
   "outputs": [
    {
     "name": "stdout",
     "output_type": "stream",
     "text": [
      "The r-value is: 0.028671434178512444\n"
     ]
    },
    {
     "data": {
      "image/png": "[encoded data removed]",
      "text/plain": [
       "<Figure size 432x288 with 1 Axes>"
      ]
     },
     "metadata": {
      "needs_background": "light"
     },
     "output_type": "display_data"
    }
   ],
   "source": [
    "#Plotting Latitude vs Wind Speed chart for the Nothern Hemisphere \n",
    "plot_linear_regression(Northern_df['Lat'], Northern_df['Wind Speed'],20,29,'Latitude', 'Wind Speed (mph)')\n",
    "\n",
    "#Saving Figure to my output_data folder\n",
    "plt.savefig(\"../output_data/NorthernHem_Lat_vs_WindSpeed.png\")\n",
    "\n",
    "#Show the plot\n",
    "plt.show()"
   ]
  },
  {
   "cell_type": "markdown",
   "metadata": {},
   "source": [
    "### Analysis:\n",
    "\n",
    "Our r-value is very close to 0. It is fair to say there is no relationship (if r < 0.25, it is consiedered as no relationship) between Latitude vs Wind Speed in the Northern Hemisphere. Wind Speed isn't affected by Latitude."
   ]
  },
  {
   "cell_type": "markdown",
   "metadata": {},
   "source": [
    "####  Southern Hemisphere - Wind Speed (mph) vs. Latitude Linear Regression"
   ]
  },
  {
   "cell_type": "code",
   "execution_count": 140,
   "metadata": {
    "scrolled": true
   },
   "outputs": [
    {
     "name": "stdout",
     "output_type": "stream",
     "text": [
      "The r-value is: 0.010661939323024302\n"
     ]
    },
    {
     "data": {
      "image/png": "[encoded data removed]",
      "text/plain": [
       "<Figure size 432x288 with 1 Axes>"
      ]
     },
     "metadata": {
      "needs_background": "light"
     },
     "output_type": "display_data"
    }
   ],
   "source": [
    "#Plotting Latitude vs Wind Speed chart for the Sothern Hemisphere \n",
    "plot_linear_regression(Southern_df['Lat'], Southern_df['Wind Speed'],-32,20,'Latitude', 'Wind Speed (mph)')\n",
    "\n",
    "#Saving Figure to my output_data folder\n",
    "plt.savefig(\"../output_data/SouthernHem_Lat_vs_WindSpeed.png\")\n",
    "\n",
    "#Show the plot\n",
    "plt.show()"
   ]
  },
  {
   "cell_type": "markdown",
   "metadata": {},
   "source": [
    "### Analysis:\n",
    "\n",
    "Our r-value is very close to 0. It is fair to say there is no relationship (if r < 0.25, it is consiedered as no relationship) between Latitude vs Wind Speed in the Southern Hemisphere. Wind Speed isn't affected by Latitude."
   ]
  }
 ],
 "metadata": {
  "anaconda-cloud": {},
  "kernel_info": {
   "name": "python3"
  },
  "kernelspec": {
   "display_name": "Python 3",
   "language": "python",
   "name": "python3"
  },
  "language_info": {
   "codemirror_mode": {
    "name": "ipython",
    "version": 3
   },
   "file_extension": ".py",
   "mimetype": "text/x-python",
   "name": "python",
   "nbconvert_exporter": "python",
   "pygments_lexer": "ipython3",
   "version": "3.8.5"
  },
  "latex_envs": {
   "LaTeX_envs_menu_present": true,
   "autoclose": false,
   "autocomplete": true,
   "bibliofile": "biblio.bib",
   "cite_by": "apalike",
   "current_citInitial": 1,
   "eqLabelWithNumbers": true,
   "eqNumInitial": 1,
   "hotkeys": {
    "equation": "Ctrl-E",
    "itemize": "Ctrl-I"
   },
   "labels_anchors": false,
   "latex_user_defs": false,
   "report_style_numbering": false,
   "user_envs_cfg": false
  },
  "nteract": {
   "version": "0.12.3"
  }
 },
 "nbformat": 4,
 "nbformat_minor": 2
}
